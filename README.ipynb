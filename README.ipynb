{
 "cells": [
  {
   "cell_type": "markdown",
   "id": "81e60a76",
   "metadata": {},
   "source": [
    "# Инструкция для поэтапного запуска проекта - diploma_pro"
   ]
  },
  {
   "cell_type": "markdown",
   "id": "889fea93",
   "metadata": {},
   "source": [
    "1) Первым делом вам потребуется открыть файл `./data/diploma.ipynb` в jupyter notebook  \n",
    "   и перезапустить ядро с последующим перезапуском всего блокнота.  \n",
    "   ![image.png](./data/images/image_00.png)"
   ]
  },
  {
   "cell_type": "markdown",
   "id": "172752d4",
   "metadata": {},
   "source": [
    "2) После подготовки основных файлов в предыдущем шаге вам потребуется открыть терминал  \n",
    "    и перейти в папку с проектом. Если потребуется активируйте виртуальное окружение,  \n",
    "    в которм установлен Docker.  \n",
    "   \n",
    "![image.png](./data/images/image_01.png)\n"
   ]
  },
  {
   "cell_type": "markdown",
   "id": "3267cb12",
   "metadata": {},
   "source": [
    "3) В Linux вы должны убедиться, что контейнер и хост-компьютер имеют соответствующие права доступак файлам.  \n",
    "   Делается это следующим образом, находясь в корневой папке проекта, прописываем указанный ниже код,  \n",
    "   после чего в директории появляется файл `.env`\n",
    "\n",
    "```echo -e \"AIRFLOW_UID=$(id -u)\\nAIRFLOW_GID=0\" > .env``` \n",
    "\n",
    "![image.png](./data/images/image_02.png)\n"
   ]
  },
  {
   "cell_type": "markdown",
   "id": "716f15b5",
   "metadata": {},
   "source": [
    "4) Третьим этапом нам потребуется собрать свой собственный образ прописав в терминале:  \n",
    "`docker build -t diploma_pro/project .`  \n",
    "\n",
    "![image.png](./data/images/image_03.png)"
   ]
  },
  {
   "cell_type": "markdown",
   "id": "e120421c",
   "metadata": {},
   "source": [
    "5) Следующим  шагом необходимо выполнить миграцию базы данных и создать первую учетную запись пользователя:  \n",
    "`docker-compose up airflow-init`  \n",
    "\n",
    "![image.png](./data/images/image_04.png)"
   ]
  },
  {
   "cell_type": "markdown",
   "id": "7f01250d",
   "metadata": {},
   "source": [
    "6) Теперь можно запускать все службы:  \n",
    "`docker-compose up`\n",
    "\n",
    "![image.png](./data/images/image_05.png)"
   ]
  },
  {
   "cell_type": "markdown",
   "id": "1fa0474c",
   "metadata": {},
   "source": [
    "7) Для удобства прогонки алгоритма с нуля, в директории проекта есть файл main.py,   \n",
    "     при запуске которого удаляются ранее созданные таблицы. Важно чтобы контейнеры находились в рабочем режиме.\n",
    "\n",
    "`python3 modules/main.py`\n",
    "\n",
    "![image.png](./data/images/image_06.png)"
   ]
  },
  {
   "cell_type": "code",
   "execution_count": null,
   "id": "e2498570",
   "metadata": {},
   "outputs": [],
   "source": []
  }
 ],
 "metadata": {
  "kernelspec": {
   "display_name": "Python 3 (ipykernel)",
   "language": "python",
   "name": "python3"
  },
  "language_info": {
   "codemirror_mode": {
    "name": "ipython",
    "version": 3
   },
   "file_extension": ".py",
   "mimetype": "text/x-python",
   "name": "python",
   "nbconvert_exporter": "python",
   "pygments_lexer": "ipython3",
   "version": "3.9.12"
  }
 },
 "nbformat": 4,
 "nbformat_minor": 5
}
